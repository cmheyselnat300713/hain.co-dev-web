{
 "cells": [
  {
   "cell_type": "code",
   "execution_count": 28,
   "outputs": [
    {
     "name": "stdout",
     "output_type": "stream",
     "text": [
      "{'password': 'axelium', 'salt sequence': '12345', 'encrypted_password': 'gAAAAABiJ48nrC_T6Eq6vNZ4ONQijeHDINTK_OsamwWk_8KCYLoQEQAJarwCRaJ0EfZdkosSy6Enn8QDxn6MkYTyR29LinK4iw==', 'decrypted_password': 'axelium'}\n"
     ]
    }
   ],
   "source": [
    "from database.encrypt_decrypt import create_salt\n",
    "from cryptography.fernet import Fernet\n",
    "\n",
    "key = b'KnUnWaSL29SLlqz_F3m3QbRbb6Q8w8CuFFmLgDyClZE='\n",
    "\n",
    "fernet = Fernet(key)\n",
    "\n",
    "def encrypt_password(password: str, salt: str) -> str:\n",
    "    pass_string = f'{salt}{password}'\n",
    "    encrypted = fernet.encrypt(pass_string.encode())\n",
    "    return encrypted.decode()\n",
    "\n",
    "def decrypt_password(encrypted_password: str, salt: str) -> str:\n",
    "    encrypted_password = encrypted_password.encode()\n",
    "    decrypted = fernet.decrypt(encrypted_password).decode()\n",
    "    decrypted = decrypted.replace(salt, '')\n",
    "    return decrypted\n",
    "\n",
    "\n",
    "sample_password = 'axelium'\n",
    "sample_salt = '12345'\n",
    "sample_encrypted_password = encrypt_password(sample_password, sample_salt)\n",
    "sample_decrypted_password = decrypt_password(sample_encrypted_password, sample_salt)\n",
    "\n",
    "\n",
    "\n",
    "print({\n",
    "    'password': sample_password,\n",
    "    'salt sequence': sample_salt,\n",
    "    'encrypted_password': sample_encrypted_password,\n",
    "    'decrypted_password': sample_decrypted_password\n",
    "})\n"
   ],
   "metadata": {
    "collapsed": false,
    "pycharm": {
     "name": "#%%\n"
    }
   }
  }
 ],
 "metadata": {
  "kernelspec": {
   "display_name": "Python 3",
   "language": "python",
   "name": "python3"
  },
  "language_info": {
   "codemirror_mode": {
    "name": "ipython",
    "version": 2
   },
   "file_extension": ".py",
   "mimetype": "text/x-python",
   "name": "python",
   "nbconvert_exporter": "python",
   "pygments_lexer": "ipython2",
   "version": "2.7.6"
  }
 },
 "nbformat": 4,
 "nbformat_minor": 0
}